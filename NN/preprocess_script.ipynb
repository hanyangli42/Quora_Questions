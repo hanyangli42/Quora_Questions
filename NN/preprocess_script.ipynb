{
 "cells": [
  {
   "cell_type": "code",
   "execution_count": 1,
   "metadata": {},
   "outputs": [],
   "source": [
    "import pickle\n",
    "import os\n",
    "import spacy\n",
    "import numpy\n",
    "import csv\n",
    "\n",
    "nlp = spacy.load('en')"
   ]
  },
  {
   "cell_type": "code",
   "execution_count": 3,
   "metadata": {},
   "outputs": [],
   "source": [
    "def read_all_data(file):\n",
    "    with open(file, encoding='utf-8') as f:\n",
    "        reader = csv.DictReader(f)\n",
    "        data = list(reader)\n",
    "        data = numpy.asarray(data)\n",
    "        numpy.random.seed(123)\n",
    "        numpy.random.shuffle(data)\n",
    "        length = data.shape[0]\n",
    "        train = data[:int(0.8 * length)]\n",
    "        valid = data[int(0.8 * length):int(0.9 * length)]\n",
    "        test = data[int(0.9 * length):]\n",
    "        return train, valid, test\n",
    "\n",
    "\n",
    "def tokenize_data(all_data):\n",
    "    tokenized = []\n",
    "    for set_ in all_data:\n",
    "        data = {'q1': [], 'q2': [], 'y': []}\n",
    "        for datum in set_:\n",
    "            data['q1'].append(_text_preprocess(datum['question1']))\n",
    "            data['q2'].append(_text_preprocess(datum['question2']))\n",
    "            data['y'].append(int(datum['is_duplicate']))\n",
    "        tokenized.append(data)\n",
    "    return tokenized\n",
    "\n",
    "\n",
    "def _text_preprocess(text):\n",
    "    if text is None:\n",
    "        return []\n",
    "    text = text.strip().replace('`', \"'\")\n",
    "    doc = nlp.tokenizer(text)\n",
    "    tokens = [t.lower_ for t in doc]\n",
    "    return tokens\n",
    "\n",
    "\n",
    "def _read_emb(file, dim):\n",
    "    emb = {}\n",
    "    dim += 1\n",
    "    with open(file, encoding='utf-8') as f:\n",
    "        for line in f:\n",
    "            tokens = line.strip().split(' ')\n",
    "            if len(tokens) == dim:\n",
    "                emb[tokens[0]] = list(map(lambda x: float(x), tokens[1:]))\n",
    "    return emb\n",
    "\n",
    "\n",
    "def _token2idx(tokens, token_map, embs, filtered_emb):\n",
    "    for i in range(len(tokens)):\n",
    "        if tokens[i] not in token_map:\n",
    "            if tokens[i] in embs:\n",
    "                token_map[tokens[i]] = len(token_map)\n",
    "                filtered_emb.append(embs[tokens[i]])\n",
    "            else:\n",
    "                tokens[i] = '<unk>'\n",
    "        tokens[i] = token_map[tokens[i]]\n",
    "\n",
    "\n",
    "def idx_and_emb(all_data, emb_file, dim):\n",
    "    embs = _read_emb(emb_file, dim)\n",
    "    word2idx = {'<pad>': 0, '<unk>': 1}\n",
    "    filtered_emb = [numpy.random.uniform(-0.1, 0.1, dim) for _ in range(2)]\n",
    "    for set_ in all_data:\n",
    "        for datum in set_['q1']:\n",
    "            _token2idx(datum, word2idx, embs, filtered_emb)\n",
    "        for datum in set_['q2']:\n",
    "            _token2idx(datum, word2idx, embs, filtered_emb)\n",
    "    print('{} word types'.format(len(word2idx)))\n",
    "    filtered_emb = numpy.asarray(filtered_emb, dtype='float32')\n",
    "    return filtered_emb, word2idx"
   ]
  },
  {
   "cell_type": "code",
   "execution_count": 5,
   "metadata": {},
   "outputs": [
    {
     "name": "stdout",
     "output_type": "stream",
     "text": [
      "Reading data done.\n",
      "Tokenization done.\n",
      "62434 word types\n",
      "Embedding done.\n",
      "Saved.\n"
     ]
    }
   ],
   "source": [
    "def main():\n",
    "    all_data = read_all_data('data/questions.csv')\n",
    "    print('Reading data done.')\n",
    "    tokenized = tokenize_data(all_data)\n",
    "    print('Tokenization done.')\n",
    "    emb_file = \"glove.6B.300d.txt\"\n",
    "    filtered_emb, word2idx = idx_and_emb(tokenized, emb_file, 300)\n",
    "    print('Embedding done.')\n",
    "    with open('data/data_emb', 'wb') as f:\n",
    "        pickle.dump((tokenized, filtered_emb, word2idx), f)\n",
    "    print('Saved.')\n",
    "\n",
    "\n",
    "if __name__ == '__main__':\n",
    "    main()"
   ]
  },
  {
   "cell_type": "code",
   "execution_count": null,
   "metadata": {},
   "outputs": [],
   "source": []
  }
 ],
 "metadata": {
  "kernelspec": {
   "display_name": "Environment (conda_pytorch_p36)",
   "language": "python",
   "name": "conda_pytorch_p36"
  },
  "language_info": {
   "codemirror_mode": {
    "name": "ipython",
    "version": 3
   },
   "file_extension": ".py",
   "mimetype": "text/x-python",
   "name": "python",
   "nbconvert_exporter": "python",
   "pygments_lexer": "ipython3",
   "version": "3.6.5"
  }
 },
 "nbformat": 4,
 "nbformat_minor": 2
}
