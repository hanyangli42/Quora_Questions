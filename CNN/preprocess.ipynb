{
 "cells": [
  {
   "cell_type": "code",
   "execution_count": 55,
   "metadata": {},
   "outputs": [
    {
     "ename": "TabError",
     "evalue": "inconsistent use of tabs and spaces in indentation (cnn_main.py, line 63)",
     "output_type": "error",
     "traceback": [
      "Traceback \u001b[0;36m(most recent call last)\u001b[0m:\n",
      "  File \u001b[1;32m\"/home/ubuntu/anaconda3/envs/pytorch_p36/lib/python3.6/site-packages/IPython/core/interactiveshell.py\"\u001b[0m, line \u001b[1;32m2963\u001b[0m, in \u001b[1;35mrun_code\u001b[0m\n    exec(code_obj, self.user_global_ns, self.user_ns)\n",
      "\u001b[0;36m  File \u001b[0;32m\"<ipython-input-55-a1811fab2d7f>\"\u001b[0;36m, line \u001b[0;32m29\u001b[0;36m, in \u001b[0;35m<module>\u001b[0;36m\u001b[0m\n\u001b[0;31m    from cnn_main import *\u001b[0m\n",
      "\u001b[0;36m  File \u001b[0;32m\"/home/ubuntu/Quora_Questions/CNN/cnn_main.py\"\u001b[0;36m, line \u001b[0;32m63\u001b[0m\n\u001b[0;31m    self.q2 = q2\u001b[0m\n\u001b[0m                ^\u001b[0m\n\u001b[0;31mTabError\u001b[0m\u001b[0;31m:\u001b[0m inconsistent use of tabs and spaces in indentation\n"
     ]
    }
   ],
   "source": [
    "import torch\n",
    "import torch.nn as nn\n",
    "from torch.nn import Sequential\n",
    "import torch.nn.functional as F\n",
    "from torchvision import transforms, datasets, models\n",
    "import numpy as np\n",
    "import matplotlib.pyplot as plt\n",
    "from torch.autograd import Variable\n",
    "from collections import namedtuple\n",
    "from IPython.display import Image\n",
    "from torch.utils.data import Dataset, DataLoader\n",
    "import os\n",
    "from sklearn.preprocessing import normalize\n",
    "from sklearn.metrics.pairwise import cosine_similarity\n",
    "import random\n",
    "from matplotlib import pyplot as plt\n",
    "import pandas as pd\n",
    "import time\n",
    "from tqdm import tqdm\n",
    "import csv\n",
    "\n",
    "\n",
    "from torch.nn.utils import rnn\n",
    "import pickle\n",
    "from sklearn.metrics import accuracy_score\n",
    "# from utils import Dataset, get_script_short_name\n",
    "import time\n",
    "\n",
    "\n"
   ]
  },
  {
   "cell_type": "code",
   "execution_count": 2,
   "metadata": {},
   "outputs": [
    {
     "name": "stdout",
     "output_type": "stream",
     "text": [
      "Loading data...\n"
     ]
    }
   ],
   "source": [
    "\n",
    "print('Loading data...')\n",
    "with open('../dataset/data_emb', 'rb') as f:\n",
    "    all_sets, embs, word2idx = pickle.load(f)"
   ]
  },
  {
   "cell_type": "code",
   "execution_count": 3,
   "metadata": {},
   "outputs": [
    {
     "name": "stdout",
     "output_type": "stream",
     "text": [
      "(62434, 300)\n"
     ]
    }
   ],
   "source": [
    "# print (len(all_sets))\n",
    "print (embs.shape)\n",
    "# print(word2idx)"
   ]
  },
  {
   "cell_type": "code",
   "execution_count": 4,
   "metadata": {},
   "outputs": [],
   "source": [
    "train_set = all_sets[0]\n",
    "dev_set = all_sets[1]\n",
    "test_set = all_sets[2]"
   ]
  },
  {
   "cell_type": "code",
   "execution_count": 15,
   "metadata": {},
   "outputs": [],
   "source": [
    "train_y = np.array(train_set['y'])\n",
    "dev_y = np.array(dev_set['y'])\n",
    "test_y = np.array(test_set['y'])\n"
   ]
  },
  {
   "cell_type": "code",
   "execution_count": 22,
   "metadata": {},
   "outputs": [],
   "source": [
    "train_q1 = np.array([np.array(seq) for seq in train_set['q1']])\n",
    "train_q2 = np.array([np.array(seq) for seq in train_set['q2']])\n",
    "dev_q1 = np.array([np.array(seq) for seq in dev_set['q1']])\n",
    "dev_q2 = np.array([np.array(seq) for seq in dev_set['q2']])\n",
    "test_q1 = np.array([np.array(seq) for seq in test_set['q1']])\n",
    "test_q2 = np.array([np.array(seq) for seq in test_set['q2']])"
   ]
  },
  {
   "cell_type": "code",
   "execution_count": 24,
   "metadata": {},
   "outputs": [
    {
     "name": "stdout",
     "output_type": "stream",
     "text": [
      "[array([ 2,  3,  4,  5,  6,  7,  8,  9,  2,  5,  4, 10, 11, 12, 13, 14, 15,\n",
      "       16, 17])\n",
      " array([18, 19,  2, 20, 21, 22, 23, 17])]\n"
     ]
    }
   ],
   "source": [
    "print (train_q1[:2])"
   ]
  },
  {
   "cell_type": "code",
   "execution_count": 34,
   "metadata": {},
   "outputs": [],
   "source": [
    "# # save data sets to npz files\n",
    "# # outfile_train = TemporaryFile()\n",
    "# np.savez('train', train_q1, train_q2, train_y)\n",
    "# # outfile_dev = TemporaryFile()\n",
    "# np.savez('dev', dev_q1, dev_q2, dev_y)\n",
    "# # outfile_test = TemporaryFile()\n",
    "# np.savez('test', test_q1, test_q2, test_y)"
   ]
  },
  {
   "cell_type": "code",
   "execution_count": 41,
   "metadata": {},
   "outputs": [],
   "source": [
    "# # load npz data sets\n",
    "# train_set = np.load('train.npz')\n",
    "# dev_set = np.load('dev.npz')\n",
    "# test_set = np.load('test.npz')\n",
    "\n",
    "# train_q1 = train_set['arr_0']\n",
    "# train_q2 = train_set['arr_1']\n",
    "# train_y = train_set['arr_2']\n",
    "# dev_q1 = dev_set['arr_0']\n",
    "# dev_q2 = dev_set['arr_1']\n",
    "# dev_y = dev_set['arr_2']\n",
    "# test_q1 = test_set['arr_0']\n",
    "# test_q2 = test_set['arr_1']\n",
    "# test_y = test_set['arr_2']\n"
   ]
  },
  {
   "cell_type": "code",
   "execution_count": 29,
   "metadata": {},
   "outputs": [
    {
     "ename": "NameError",
     "evalue": "name 'Dataset' is not defined",
     "output_type": "error",
     "traceback": [
      "\u001b[0;31m---------------------------------------------------------------------------\u001b[0m",
      "\u001b[0;31mNameError\u001b[0m                                 Traceback (most recent call last)",
      "\u001b[0;32m<ipython-input-29-7b459c3255ed>\u001b[0m in \u001b[0;36m<module>\u001b[0;34m()\u001b[0m\n\u001b[1;32m      1\u001b[0m \u001b[0;31m# create customized datasets\u001b[0m\u001b[0;34m\u001b[0m\u001b[0;34m\u001b[0m\u001b[0m\n\u001b[0;32m----> 2\u001b[0;31m \u001b[0;32mclass\u001b[0m \u001b[0mDQIDataset\u001b[0m\u001b[0;34m(\u001b[0m\u001b[0mDataset\u001b[0m\u001b[0;34m)\u001b[0m\u001b[0;34m:\u001b[0m\u001b[0;34m\u001b[0m\u001b[0m\n\u001b[0m\u001b[1;32m      3\u001b[0m         \u001b[0;32mdef\u001b[0m \u001b[0m__init__\u001b[0m\u001b[0;34m(\u001b[0m\u001b[0mself\u001b[0m\u001b[0;34m,\u001b[0m \u001b[0mX\u001b[0m\u001b[0;34m,\u001b[0m \u001b[0my\u001b[0m\u001b[0;34m,\u001b[0m \u001b[0mtrim_func\u001b[0m\u001b[0;34m,\u001b[0m \u001b[0mtrim_len\u001b[0m\u001b[0;34m,\u001b[0m \u001b[0mtrain\u001b[0m \u001b[0;34m=\u001b[0m \u001b[0;32mTrue\u001b[0m\u001b[0;34m)\u001b[0m\u001b[0;34m:\u001b[0m\u001b[0;34m\u001b[0m\u001b[0m\n\u001b[1;32m      4\u001b[0m                 \u001b[0mself\u001b[0m\u001b[0;34m.\u001b[0m\u001b[0mX\u001b[0m \u001b[0;34m=\u001b[0m \u001b[0mX\u001b[0m\u001b[0;34m\u001b[0m\u001b[0m\n\u001b[1;32m      5\u001b[0m                 \u001b[0mself\u001b[0m\u001b[0;34m.\u001b[0m\u001b[0mtrain\u001b[0m \u001b[0;34m=\u001b[0m \u001b[0mtrain\u001b[0m\u001b[0;34m\u001b[0m\u001b[0m\n",
      "\u001b[0;31mNameError\u001b[0m: name 'Dataset' is not defined"
     ]
    }
   ],
   "source": [
    "\n"
   ]
  },
  {
   "cell_type": "code",
   "execution_count": null,
   "metadata": {},
   "outputs": [],
   "source": []
  },
  {
   "cell_type": "code",
   "execution_count": 28,
   "metadata": {},
   "outputs": [
    {
     "name": "stdout",
     "output_type": "stream",
     "text": [
      "(15,)\n"
     ]
    }
   ],
   "source": [
    "print(train_q1[9].shape)"
   ]
  },
  {
   "cell_type": "code",
   "execution_count": 14,
   "metadata": {},
   "outputs": [
    {
     "ename": "KeyError",
     "evalue": "0",
     "output_type": "error",
     "traceback": [
      "\u001b[0;31m---------------------------------------------------------------------------\u001b[0m",
      "\u001b[0;31mKeyError\u001b[0m                                  Traceback (most recent call last)",
      "\u001b[0;32m<ipython-input-14-8a86a6868d8f>\u001b[0m in \u001b[0;36m<module>\u001b[0;34m()\u001b[0m\n\u001b[0;32m----> 1\u001b[0;31m \u001b[0mprint\u001b[0m \u001b[0;34m(\u001b[0m\u001b[0mall_sets\u001b[0m\u001b[0;34m[\u001b[0m\u001b[0;36m0\u001b[0m\u001b[0;34m]\u001b[0m\u001b[0;34m[\u001b[0m\u001b[0;36m0\u001b[0m\u001b[0;34m]\u001b[0m\u001b[0;34m)\u001b[0m\u001b[0;34m\u001b[0m\u001b[0m\n\u001b[0m",
      "\u001b[0;31mKeyError\u001b[0m: 0"
     ]
    }
   ],
   "source": [
    "print (all_sets[0])"
   ]
  },
  {
   "cell_type": "code",
   "execution_count": 22,
   "metadata": {},
   "outputs": [],
   "source": [
    "idx2word = {value:key for key, value in word2idx.items()}"
   ]
  },
  {
   "cell_type": "code",
   "execution_count": 24,
   "metadata": {},
   "outputs": [
    {
     "name": "stdout",
     "output_type": "stream",
     "text": [
      "[2, 3, 4, 5, 6, 7, 8, 9, 2, 5, 4, 10, 11, 12, 13, 14, 15, 16, 17]\n",
      "['i', 'want', 'to', 'write', 'but', ',', 'what', 'should', 'i', 'write', 'to', 'improve', 'my', 'writing', 'ability', 'and', 'imaginative', 'power', '?']\n"
     ]
    }
   ],
   "source": [
    "encode1 = all_sets[0][\"q1\"][0]\n",
    "print (encode1)\n",
    "question1 = [idx2word[idx] for idx in encode1]\n",
    "print (question1)"
   ]
  },
  {
   "cell_type": "code",
   "execution_count": 30,
   "metadata": {},
   "outputs": [
    {
     "name": "stdout",
     "output_type": "stream",
     "text": [
      "146 271 89 271 81 130\n"
     ]
    }
   ],
   "source": [
    "# find max sentence length in the data\n",
    "train_q1_max = max([len(q) for q in all_sets[0][\"q1\"]])\n",
    "train_q2_max = max([len(q) for q in all_sets[0][\"q2\"]])\n",
    "dev_q1_max = max([len(q) for q in all_sets[1][\"q1\"]])\n",
    "dev_q2_max = max([len(q) for q in all_sets[1][\"q2\"]])\n",
    "test_q1_max = max([len(q) for q in all_sets[2][\"q1\"]])\n",
    "test_q2_max = max([len(q) for q in all_sets[2][\"q2\"]])\n",
    "\n",
    "print(train_q1_max, train_q2_ma x, dev_q1_max, dev_q2_max, test_q1_max, test_q2_max)\n",
    "\n",
    "# 146 271 89 271 81 130\n",
    "# max word length in the entire dataset = 271"
   ]
  },
  {
   "cell_type": "code",
   "execution_count": 21,
   "metadata": {},
   "outputs": [
    {
     "name": "stdout",
     "output_type": "stream",
     "text": [
      "1681\n",
      "<class 'list'>\n",
      "323480\n",
      "[[2, 3, 4, 5, 6, 7, 8, 9, 2, 5, 4, 10, 11, 12, 13, 14, 15, 16, 17], [18, 19, 2, 20, 21, 22, 23, 17], [24, 25, 26, 27, 28, 17], [8, 25, 29, 30, 31, 32, 33, 34, 32, 14, 32, 35, 32, 17, 8, 36, 2, 37, 38, 39, 17], [25, 40, 41, 42, 29, 43, 7, 44, 42, 29, 45, 40, 46, 47, 17, 8, 48, 49, 50, 17], [18, 19, 2, 51, 52, 53, 46, 54, 55, 56, 17], [57, 58, 59, 60, 61, 62, 63, 44, 64, 65, 66, 17], [8, 57, 29, 67, 68, 69, 70, 62, 71, 72, 14, 8, 57, 29, 73, 68, 74, 75, 76, 17], [77, 78, 79, 80, 81, 82, 17, 1, 77, 80, 81, 83, 17], [8, 57, 29, 84, 85, 86, 87, 88, 29, 89, 69, 90, 91, 92, 17], [8, 57, 93, 94, 45, 95, 9, 96, 97, 98, 99, 100, 101, 74, 1, 17], [8, 25, 29, 77, 14, 102, 103, 104, 105, 69, 29, 106, 17], [107, 108, 109, 110, 111, 4, 112, 17], [18, 19, 2, 113, 11, 114, 32, 115, 116, 17], [8, 25, 90, 117, 44, 118, 119, 65, 120, 17], [18, 19, 121, 122, 17], [59, 123, 25, 124, 44, 59, 125, 7, 14, 126, 19, 127, 96, 128, 129, 130, 126, 57, 131, 59, 132, 62, 133, 130, 134, 18, 126, 135, 136, 137, 4, 138, 128, 129, 29, 123, 25, 124, 17], [18, 19, 126, 139, 59, 140, 141, 142, 143, 17], [144, 145, 146, 8, 25, 29, 77, 147, 104, 148, 149, 17], [25, 150, 151, 152, 29, 103, 153, 62, 154, 155, 17], [8, 57, 93, 156, 157, 158, 159, 160, 161, 162, 19, 163, 96, 17], [8, 25, 164, 165, 17], [24, 29, 166, 167, 62, 168, 169, 7, 1, 170, 171, 172, 25, 173, 174, 69, 175, 176, 177, 4, 178, 176, 17], [8, 57, 93, 179, 180, 181, 182, 17], [18, 36, 2, 183, 184, 185, 17], [18, 19, 2, 186, 187, 188, 189, 190, 191, 69, 59, 192, 193, 194, 192, 150, 71, 53, 195, 194, 196, 170, 197, 7, 198, 57, 199, 172, 17], [8, 135, 200, 201, 202, 203, 62, 204, 205, 17], [8, 25, 90, 206, 207, 208, 209, 17], [8, 210, 211, 9, 212, 213, 214, 104, 1, 17], [18, 215, 216, 48, 49, 217, 104, 1, 4, 218, 59, 219, 53, 220, 4, 221, 69, 222, 223, 62, 59, 224, 225, 1, 170, 226, 227, 172, 17], [25, 228, 229, 230, 231, 17], [232, 233, 234, 127, 46, 235, 7, 128, 236, 135, 126, 237, 14, 24, 17], [238, 239, 240, 241, 242, 243, 244, 1, 243, 1, 172, 239], [8, 57, 93, 245, 14, 246, 194, 247, 248, 88, 29, 249, 17], [8, 25, 46, 250, 251, 65, 252, 4, 253, 254, 17], [8, 25, 29, 255, 62, 46, 256, 257, 258, 17], [8, 25, 29, 100, 259, 126, 260, 4, 19, 38, 261, 59, 262, 263, 101, 17], [25, 264, 265, 69, 45, 266, 17], [24, 19, 162, 267, 268, 62, 269, 162, 6, 270, 271, 7, 272, 7, 273, 274, 162, 17], [18, 234, 29, 249, 275, 276, 277, 14, 278, 17], [24, 279, 127, 280, 217, 281, 29, 233, 53, 11, 282, 283, 38, 2, 284, 46, 285, 17], [25, 40, 286, 287, 40, 59, 288, 17], [18, 135, 126, 267, 59, 289, 290, 291, 69, 59, 292, 293, 17], [8, 57, 294, 14, 295, 296, 17], [234, 297, 298, 69, 299, 300, 29, 301, 302, 17], [24, 25, 303, 304, 44, 305, 306, 17], [8, 25, 29, 77, 129, 4, 307, 29, 70, 40, 308, 40, 14, 40, 309, 40, 17], [18, 25, 176, 310, 311, 176, 17], [8, 57, 29, 312, 62, 59, 313, 62, 156, 17], [18, 19, 2, 314, 104, 315, 316, 317, 17], [18, 19, 126, 318, 319, 320, 17, 321], [25, 29, 198, 322, 17, 24, 273, 24, 270, 17], [8, 323, 90, 303, 324, 126, 325, 326, 17], [36, 126, 327, 34, 328, 21, 329, 17, 29, 306, 259, 2, 330, 25, 160, 58, 65, 59, 331, 332, 42, 59, 333, 14, 334, 335, 336, 337, 338, 273, 333, 339, 340, 130], [24, 57, 341, 29, 342, 343, 14, 344, 17], [24, 279, 29, 345, 346, 347, 44, 348, 17], [18, 19, 126, 349, 59, 350, 351, 17], [8, 352, 4, 341, 29, 353, 354, 69, 355, 17, 36, 2, 356, 357, 98, 29, 358, 17], [8, 359, 104, 360, 361, 17], [8, 25, 29, 362, 62, 29, 363, 40, 364, 364, 365, 366, 40, 17], [48, 367, 368, 62, 29, 369, 327, 106, 4, 370, 29, 371, 62, 29, 369, 17, 18, 17], [25, 372, 373, 17], [323, 374, 375, 376, 377, 361, 4, 378, 4, 379, 380, 17], [8, 381, 382, 44, 29, 383, 17], [2, 193, 384, 59, 45, 385, 104, 81, 386, 130, 8, 9, 2, 387, 104, 69, 388, 17], [18, 19, 2, 389, 390, 391, 44, 11, 392, 17], [8, 25, 29, 77, 129, 4, 267, 393, 394, 395, 17], [18, 36, 2, 396, 4, 29, 106, 17], [202, 126, 86, 397, 273, 247, 59, 398, 399, 17], [18, 36, 126, 184, 185, 400, 17], [8, 401, 25, 402, 403, 404, 405, 77, 247, 104, 17], [8, 135, 126, 19, 42, 49, 232, 126, 406, 29, 407, 408, 1, 17], [8, 57, 29, 409, 31, 410, 14, 1, 17], [8, 25, 411, 412, 17], [24, 19, 127, 207, 413, 414, 162, 415, 416, 69, 29, 417, 17], [24, 19, 418, 136, 1, 333, 419, 14, 420, 7, 421, 69, 422, 17], [8, 234, 29, 423, 62, 29, 424, 62, 425, 7, 14, 18, 279, 21, 424, 426, 14, 427, 4, 29, 424, 62, 428, 17], [429, 36, 2, 328, 430, 62, 431, 432, 433, 17], [8, 25, 29, 161, 434, 435, 126, 330, 170, 104, 436, 14, 437, 172, 160, 438, 126, 439, 440, 126, 441, 442, 104, 443, 17], [8, 57, 444, 445, 440, 446, 17], [8, 57, 29, 447, 448, 44, 449, 450, 451, 142, 29, 452, 69, 175, 453, 17], [8, 57, 93, 454, 4, 455, 456, 457, 458, 17], [8, 352, 459, 126, 460, 44, 59, 385, 17], [18, 36, 2, 461, 462, 44, 463, 464, 4, 465, 17], [25, 466, 467, 17], [232, 468, 194, 469, 470, 62, 471, 14, 472, 473, 49, 474, 7, 107, 49, 475, 160, 216, 25, 476, 38, 341, 7, 477, 478, 25, 479, 142, 480, 17], [48, 481, 482, 483, 484, 273, 485, 486, 487, 273, 376, 4, 488, 489, 4, 490, 17], [8, 57, 93, 491, 104, 59, 432, 492, 17], [8, 234, 493, 494, 457, 89, 495, 496, 17], [429, 36, 2, 237, 59, 497, 104, 29, 498, 499, 500, 17], [38, 126, 501, 443, 44, 502, 7, 19, 99, 462, 389, 503, 17], [8, 25, 29, 504, 129, 4, 122, 17], [19, 505, 506, 507, 88, 29, 508, 62, 29, 509, 510, 4, 99, 511, 512, 7, 513, 17], [8, 57, 93, 514, 104, 59, 515, 516, 517, 17], [18, 57, 161, 518, 325, 519, 62, 520, 62, 521, 522, 17], [69, 90, 523, 7, 8, 524, 525, 126, 59, 526, 194, 527, 528, 14, 529, 126, 387, 29, 530, 17], [18, 36, 59, 531, 389, 281, 62, 29, 532, 533, 17], [8, 25, 534, 535, 17], [25, 536, 523, 59, 537, 104, 538, 539, 4, 46, 540, 17], [24, 19, 93, 162, 541, 160, 29, 121, 542, 25, 543, 17]]\n"
     ]
    }
   ],
   "source": [
    "print (word2idx[\"apple\"])\n",
    "print (type(all_sets[0][\"q1\"]))\n",
    "print (len(all_sets[0][\"q1\"]))\n",
    "print (all_sets[0][\"q1\"][:100])\n"
   ]
  },
  {
   "cell_type": "code",
   "execution_count": null,
   "metadata": {},
   "outputs": [],
   "source": []
  }
 ],
 "metadata": {
  "kernelspec": {
   "display_name": "Python 3",
   "language": "python",
   "name": "python3"
  },
  "language_info": {
   "codemirror_mode": {
    "name": "ipython",
    "version": 3
   },
   "file_extension": ".py",
   "mimetype": "text/x-python",
   "name": "python",
   "nbconvert_exporter": "python",
   "pygments_lexer": "ipython3",
   "version": "3.6.5"
  }
 },
 "nbformat": 4,
 "nbformat_minor": 2
}
